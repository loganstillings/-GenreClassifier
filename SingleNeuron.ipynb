{
 "cells": [
  {
   "cell_type": "code",
   "execution_count": 9,
   "metadata": {},
   "outputs": [],
   "source": [
    "import math"
   ]
  },
  {
   "cell_type": "code",
   "execution_count": 10,
   "metadata": {},
   "outputs": [],
   "source": [
    "def sigmoid(x):\n",
    "    y = 1.0 / (1 + math.exp(-x))\n",
    "    return y"
   ]
  },
  {
   "cell_type": "code",
   "execution_count": 11,
   "metadata": {},
   "outputs": [],
   "source": [
    "def activate(inputs, weights):\n",
    "    # perform net input\n",
    "    h = 0\n",
    "    for x, w, in zip(inputs, weights):\n",
    "        h += x*w\n",
    "    \n",
    "    # perform activation\n",
    "    return sigmoid(h)"
   ]
  },
  {
   "cell_type": "code",
   "execution_count": 12,
   "metadata": {},
   "outputs": [
    {
     "name": "stdout",
     "output_type": "stream",
     "text": [
      "0.610639233949222\n"
     ]
    }
   ],
   "source": [
    "inputs = [0.5, 0.3, 0.2]\n",
    "weights = [0.4, 0.7, 0.2]\n",
    "output = activate(inputs, weights)\n",
    "print(output)"
   ]
  }
 ],
 "metadata": {
  "kernelspec": {
   "display_name": "Python 3",
   "language": "python",
   "name": "python3"
  },
  "language_info": {
   "codemirror_mode": {
    "name": "ipython",
    "version": 3
   },
   "file_extension": ".py",
   "mimetype": "text/x-python",
   "name": "python",
   "nbconvert_exporter": "python",
   "pygments_lexer": "ipython3",
   "version": "3.9.4"
  },
  "orig_nbformat": 4,
  "vscode": {
   "interpreter": {
    "hash": "2cc0532ee83a55a8ed35b4eb27a95123a5d2cb5ad676f9b89aaf8c32d4359005"
   }
  }
 },
 "nbformat": 4,
 "nbformat_minor": 2
}
