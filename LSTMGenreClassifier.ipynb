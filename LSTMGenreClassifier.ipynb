{
 "cells": [
  {
   "cell_type": "code",
   "execution_count": 3,
   "metadata": {},
   "outputs": [],
   "source": [
    "import json\n",
    "import numpy as np\n",
    "from sklearn.model_selection import train_test_split\n",
    "import tensorflow.keras as keras\n",
    "import matplotlib.pyplot as plt\n",
    "\n",
    "DATA_PATH = './data.json'"
   ]
  },
  {
   "cell_type": "code",
   "execution_count": 4,
   "metadata": {},
   "outputs": [],
   "source": [
    "def load_data(data_path):\n",
    "    with open(data_path, \"r\") as fp:\n",
    "        data = json.load(fp)\n",
    "    X = np.array(data[\"mfcc\"])\n",
    "    y = np.array(data[\"labels\"])\n",
    "    return X, y\n",
    "\n",
    "def prepare_datasets(test_size, validation_size):\n",
    "    X, y = load_data(DATA_PATH)\n",
    "\n",
    "    # split training and test sets\n",
    "    X_train, X_test, y_train, y_test = train_test_split(X, y, test_size=test_size)\n",
    "\n",
    "    # split training and validation sets\n",
    "    X_train, X_validation, y_train, y_validation = train_test_split(X_train, y_train, test_size=validation_size)\n",
    "\n",
    "    return X_train, X_validation, X_test, y_train, y_validation, y_test\n",
    "\n",
    "def build_model(input_shape):\n",
    "    # create model\n",
    "    model = keras.Sequential()\n",
    "\n",
    "    # 2 LSTM layers\n",
    "    model.add(keras.layers.LSTM(64, input_shape=input_shape, return_sequences=True))\n",
    "    model.add(keras.layers.LSTM(64))\n",
    "\n",
    "    # dense layer\n",
    "    model.add(keras.layers.Dense(64, activation=\"relu\"))\n",
    "    model.add(keras.layers.Dropout(0.3))\n",
    "\n",
    "    # output layer\n",
    "    model.add(keras.layers.Dense(10, activation='softmax'))\n",
    "    \n",
    "    return model\n",
    "\n",
    "def predict(model, X, y):\n",
    "    X = X[np.newaxis, ...]\n",
    "    # prediction is 2d array [[0.1, 0.2, ...]] for each genre for each sample\n",
    "    prediction= model.predict(X)\n",
    "\n",
    "    # extract index of max genre estimate\n",
    "    predicted_index = np.argmax(prediction, axis=1)\n",
    "    print(\"Expected index: {}, Predicted index: {}\".format(y, predicted_index))\n",
    "\n",
    "def plot_history(history):\n",
    "    plt.close()\n",
    "    fig, axs = plt.subplots(2)\n",
    "\n",
    "    #create accuracy subplot\n",
    "    axs[0].plot(history.history[\"accuracy\"], label=\"train_accuracy\")\n",
    "    axs[0].plot(history.history[\"val_accuracy\"], label=\"test_accuracy\")\n",
    "    axs[0].set_ylabel(\"Accuracy\")\n",
    "    axs[0].legend(loc=\"lower right\")\n",
    "    axs[0].set_title(\"Accuracy Eval\")\n",
    "\n",
    "    #create error subplot\n",
    "    axs[1].plot(history.history[\"loss\"], label=\"train_error\")\n",
    "    axs[1].plot(history.history[\"val_loss\"], label=\"test_error\")\n",
    "    axs[1].set_ylabel(\"Error\")\n",
    "    axs[1].set_xlabel(\"Epoch\")\n",
    "    axs[1].legend(loc=\"upper right\")\n",
    "    axs[1].set_title(\"Error Eval\")\n",
    "\n",
    "    plt.show()"
   ]
  },
  {
   "cell_type": "code",
   "execution_count": 5,
   "metadata": {},
   "outputs": [
    {
     "name": "stdout",
     "output_type": "stream",
     "text": [
      "Epoch 1/30\n",
      "188/188 [==============================] - 25s 107ms/step - loss: 2.2144 - accuracy: 0.2015 - val_loss: 2.0643 - val_accuracy: 0.2917\n",
      "Epoch 2/30\n",
      "188/188 [==============================] - 21s 110ms/step - loss: 1.9538 - accuracy: 0.3150 - val_loss: 1.8029 - val_accuracy: 0.3431\n",
      "Epoch 3/30\n",
      "188/188 [==============================] - 17s 91ms/step - loss: 1.7693 - accuracy: 0.3657 - val_loss: 1.6675 - val_accuracy: 0.4032\n",
      "Epoch 4/30\n",
      "188/188 [==============================] - 16s 87ms/step - loss: 1.6683 - accuracy: 0.4063 - val_loss: 1.5941 - val_accuracy: 0.4146\n",
      "Epoch 5/30\n",
      "188/188 [==============================] - 17s 88ms/step - loss: 1.5872 - accuracy: 0.4420 - val_loss: 1.5053 - val_accuracy: 0.4559\n",
      "Epoch 6/30\n",
      "188/188 [==============================] - 16s 87ms/step - loss: 1.5160 - accuracy: 0.4640 - val_loss: 1.4689 - val_accuracy: 0.4680\n",
      "Epoch 7/30\n",
      "188/188 [==============================] - 16s 85ms/step - loss: 1.4642 - accuracy: 0.4836 - val_loss: 1.4316 - val_accuracy: 0.4893\n",
      "Epoch 8/30\n",
      "188/188 [==============================] - 16s 86ms/step - loss: 1.4198 - accuracy: 0.4991 - val_loss: 1.4278 - val_accuracy: 0.4846\n",
      "Epoch 9/30\n",
      "188/188 [==============================] - 16s 87ms/step - loss: 1.3744 - accuracy: 0.5179 - val_loss: 1.3805 - val_accuracy: 0.5020\n",
      "Epoch 10/30\n",
      "188/188 [==============================] - 16s 87ms/step - loss: 1.3373 - accuracy: 0.5308 - val_loss: 1.3496 - val_accuracy: 0.5214\n",
      "Epoch 11/30\n",
      "188/188 [==============================] - 16s 86ms/step - loss: 1.3013 - accuracy: 0.5512 - val_loss: 1.3283 - val_accuracy: 0.5381\n",
      "Epoch 12/30\n",
      "188/188 [==============================] - 16s 85ms/step - loss: 1.2624 - accuracy: 0.5582 - val_loss: 1.2980 - val_accuracy: 0.5387\n",
      "Epoch 13/30\n",
      "188/188 [==============================] - 16s 87ms/step - loss: 1.2164 - accuracy: 0.5810 - val_loss: 1.2765 - val_accuracy: 0.5501\n",
      "Epoch 14/30\n",
      "188/188 [==============================] - 16s 88ms/step - loss: 1.2084 - accuracy: 0.5754 - val_loss: 1.2680 - val_accuracy: 0.5427\n",
      "Epoch 15/30\n",
      "188/188 [==============================] - 16s 87ms/step - loss: 1.1727 - accuracy: 0.6002 - val_loss: 1.2479 - val_accuracy: 0.5547\n",
      "Epoch 16/30\n",
      "188/188 [==============================] - 17s 88ms/step - loss: 1.1445 - accuracy: 0.6012 - val_loss: 1.2318 - val_accuracy: 0.5694\n",
      "Epoch 17/30\n",
      "188/188 [==============================] - 16s 88ms/step - loss: 1.1188 - accuracy: 0.6163 - val_loss: 1.2450 - val_accuracy: 0.5648\n",
      "Epoch 18/30\n",
      "188/188 [==============================] - 23s 124ms/step - loss: 1.0964 - accuracy: 0.6234 - val_loss: 1.2167 - val_accuracy: 0.5768\n",
      "Epoch 19/30\n",
      "188/188 [==============================] - 24s 126ms/step - loss: 1.0621 - accuracy: 0.6273 - val_loss: 1.1967 - val_accuracy: 0.5814\n",
      "Epoch 20/30\n",
      "188/188 [==============================] - 24s 126ms/step - loss: 1.0616 - accuracy: 0.6345 - val_loss: 1.1850 - val_accuracy: 0.5881\n",
      "Epoch 21/30\n",
      "188/188 [==============================] - 20s 104ms/step - loss: 1.0370 - accuracy: 0.6381 - val_loss: 1.1727 - val_accuracy: 0.5948\n",
      "Epoch 22/30\n",
      "188/188 [==============================] - 16s 87ms/step - loss: 1.0058 - accuracy: 0.6536 - val_loss: 1.1619 - val_accuracy: 0.5908\n",
      "Epoch 23/30\n",
      "188/188 [==============================] - 16s 87ms/step - loss: 1.0092 - accuracy: 0.6513 - val_loss: 1.1456 - val_accuracy: 0.6068\n",
      "Epoch 24/30\n",
      "188/188 [==============================] - 17s 91ms/step - loss: 0.9776 - accuracy: 0.6663 - val_loss: 1.2043 - val_accuracy: 0.5688\n",
      "Epoch 25/30\n",
      "188/188 [==============================] - 17s 88ms/step - loss: 0.9644 - accuracy: 0.6710 - val_loss: 1.1362 - val_accuracy: 0.6095\n",
      "Epoch 26/30\n",
      "188/188 [==============================] - 17s 88ms/step - loss: 0.9616 - accuracy: 0.6747 - val_loss: 1.1458 - val_accuracy: 0.6101\n",
      "Epoch 27/30\n",
      "188/188 [==============================] - 17s 88ms/step - loss: 0.9425 - accuracy: 0.6820 - val_loss: 1.1511 - val_accuracy: 0.6121\n",
      "Epoch 28/30\n",
      "188/188 [==============================] - 17s 90ms/step - loss: 0.9314 - accuracy: 0.6819 - val_loss: 1.1265 - val_accuracy: 0.6208\n",
      "Epoch 29/30\n",
      "188/188 [==============================] - 17s 88ms/step - loss: 0.9196 - accuracy: 0.6860 - val_loss: 1.1111 - val_accuracy: 0.6275\n",
      "Epoch 30/30\n",
      "188/188 [==============================] - 17s 90ms/step - loss: 0.8909 - accuracy: 0.6965 - val_loss: 1.1122 - val_accuracy: 0.6302\n"
     ]
    },
    {
     "data": {
      "image/png": "[encoded data removed]",
      "text/plain": [
       "<Figure size 432x288 with 2 Axes>"
      ]
     },
     "metadata": {
      "needs_background": "light"
     },
     "output_type": "display_data"
    },
    {
     "name": "stdout",
     "output_type": "stream",
     "text": [
      "79/79 - 2s - loss: 1.1192 - accuracy: 0.6276 - 2s/epoch - 28ms/step\n",
      "Accuracy on test set is {} 0.6275530457496643\n"
     ]
    }
   ],
   "source": [
    "# create train, validation, and test sets\n",
    "X_train, X_validation, X_test, y_train, y_validation, y_test = prepare_datasets(0.25, 0.2)\n",
    "# build the RNN\n",
    "input_shape = (X_train.shape[1], X_train.shape[2]) # 130 10 sements, 13fccs\n",
    "model = build_model(input_shape)\n",
    "\n",
    "# compile the network\n",
    "optimizer = keras.optimizers.Adam(learning_rate=0.0001)\n",
    "model.compile(optimizer=optimizer, loss=\"sparse_categorical_crossentropy\", metrics=['accuracy'])\n",
    "\n",
    "# train\n",
    "history = model.fit(X_train, y_train, validation_data=(X_validation, y_validation), batch_size=32, epochs=30)\n",
    "plot_history(history)\n",
    "\n",
    "# evaluation\n",
    "test_error, test_accuracy = model.evaluate(X_test, y_test, verbose=2)\n",
    "print(\"Accuracy on test set is {}\",format(test_accuracy))"
   ]
  }
 ],
 "metadata": {
  "kernelspec": {
   "display_name": "Python 3",
   "language": "python",
   "name": "python3"
  },
  "language_info": {
   "codemirror_mode": {
    "name": "ipython",
    "version": 3
   },
   "file_extension": ".py",
   "mimetype": "text/x-python",
   "name": "python",
   "nbconvert_exporter": "python",
   "pygments_lexer": "ipython3",
   "version": "3.9.4"
  },
  "orig_nbformat": 4,
  "vscode": {
   "interpreter": {
    "hash": "2cc0532ee83a55a8ed35b4eb27a95123a5d2cb5ad676f9b89aaf8c32d4359005"
   }
  }
 },
 "nbformat": 4,
 "nbformat_minor": 2
}
