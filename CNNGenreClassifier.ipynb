{
 "cells": [
  {
   "cell_type": "code",
   "execution_count": 14,
   "metadata": {},
   "outputs": [],
   "source": [
    "import json\n",
    "import numpy as np\n",
    "from sklearn.model_selection import train_test_split\n",
    "import tensorflow.keras as keras\n",
    "DATA_PATH = './data.json'"
   ]
  },
  {
   "cell_type": "code",
   "execution_count": 15,
   "metadata": {},
   "outputs": [],
   "source": [
    "def load_data(data_path):\n",
    "    with open(data_path, \"r\") as fp:\n",
    "        data = json.load(fp)\n",
    "    X = np.array(data[\"mfcc\"])\n",
    "    y = np.array(data[\"labels\"])\n",
    "    return X, y\n",
    "\n",
    "def prepare_datasets(test_size, validation_size):\n",
    "    X, y = load_data(DATA_PATH)\n",
    "\n",
    "    # split training and test sets\n",
    "    X_train, X_test, y_train, y_test = train_test_split(X, y, test_size=test_size)\n",
    "\n",
    "    # split training and validation sets\n",
    "    X_train, X_validation, y_train, y_validation = train_test_split(X_train, y_train, test_size=validation_size)\n",
    "\n",
    "    # tensorflow expects as 3d array for CNNs (3d is like color/channel)\n",
    "    X_train = X_train[..., np.newaxis] # 4d array -> (num samples, 130, 13, 1)\n",
    "    X_validation = X_validation[..., np.newaxis]\n",
    "    X_test = X_test[..., np.newaxis]\n",
    "\n",
    "    return X_train, X_validation, X_test, y_train, y_validation, y_test\n",
    "\n",
    "def build_model(input_shape):\n",
    "    # create model\n",
    "    model = keras.Sequential()\n",
    "\n",
    "    # 1st convolution layer\n",
    "    model.add(keras.layers.Conv2D(32, (3, 3), activation=\"relu\", input_shape=input_shape))\n",
    "    model.add(keras.layers.MaxPool2D((3, 3), strides=(2, 2), padding='same'))\n",
    "    model.add(keras.layers.BatchNormalization())\n",
    "\n",
    "    # 2nd convolution layer\n",
    "    model.add(keras.layers.Conv2D(32, (3, 3), activation=\"relu\", input_shape=input_shape))\n",
    "    model.add(keras.layers.MaxPool2D((3, 3), strides=(2, 2), padding='same'))\n",
    "    model.add(keras.layers.BatchNormalization())\n",
    "\n",
    "    # 3rd convolution layer\n",
    "    model.add(keras.layers.Conv2D(32, (2, 2), activation=\"relu\", input_shape=input_shape))\n",
    "    model.add(keras.layers.MaxPool2D((2, 2), strides=(2, 2), padding='same'))\n",
    "    model.add(keras.layers.BatchNormalization())\n",
    "\n",
    "    # flatten the output and feed it to the dense layer\n",
    "    model.add(keras.layers.Flatten())\n",
    "    model.add(keras.layers.Dense(64, activation='relu'))\n",
    "    model.add(keras.layers.Dropout(0.3))\n",
    "\n",
    "    # output layer\n",
    "    model.add(keras.layers.Dense(10, activation='softmax'))\n",
    "    \n",
    "    return model\n",
    "\n",
    "def predict(model, X, y):\n",
    "    X = X[np.newaxis, ...]\n",
    "    # prediction is 2d array [[0.1, 0.2, ...]] for each genre for each sample\n",
    "    prediction= model.predict(X)\n",
    "\n",
    "    # extract index of max genre estimate\n",
    "    predicted_index = np.argmax(prediction, axis=1)\n",
    "    print(\"Expected index: {}, Predicted index: {}\".format(y, predicted_index))"
   ]
  },
  {
   "cell_type": "code",
   "execution_count": 16,
   "metadata": {},
   "outputs": [
    {
     "name": "stdout",
     "output_type": "stream",
     "text": [
      "Epoch 1/30\n",
      "188/188 [==============================] - 9s 41ms/step - loss: 2.4082 - accuracy: 0.2445 - val_loss: 1.8456 - val_accuracy: 0.3465\n",
      "Epoch 2/30\n",
      "188/188 [==============================] - 6s 33ms/step - loss: 1.8614 - accuracy: 0.3550 - val_loss: 1.5693 - val_accuracy: 0.4386\n",
      "Epoch 3/30\n",
      "188/188 [==============================] - 8s 41ms/step - loss: 1.6275 - accuracy: 0.4236 - val_loss: 1.4606 - val_accuracy: 0.4686\n",
      "Epoch 4/30\n",
      "188/188 [==============================] - 8s 42ms/step - loss: 1.4948 - accuracy: 0.4699 - val_loss: 1.3499 - val_accuracy: 0.5093\n",
      "Epoch 5/30\n",
      "188/188 [==============================] - 8s 45ms/step - loss: 1.3961 - accuracy: 0.4972 - val_loss: 1.3014 - val_accuracy: 0.5287\n",
      "Epoch 6/30\n",
      "188/188 [==============================] - 6s 33ms/step - loss: 1.3563 - accuracy: 0.5194 - val_loss: 1.2578 - val_accuracy: 0.5467\n",
      "Epoch 7/30\n",
      "188/188 [==============================] - 6s 33ms/step - loss: 1.2758 - accuracy: 0.5458 - val_loss: 1.2113 - val_accuracy: 0.5541\n",
      "Epoch 8/30\n",
      "188/188 [==============================] - 7s 35ms/step - loss: 1.2310 - accuracy: 0.5642 - val_loss: 1.1787 - val_accuracy: 0.5728\n",
      "Epoch 9/30\n",
      "188/188 [==============================] - 7s 36ms/step - loss: 1.1871 - accuracy: 0.5782 - val_loss: 1.1503 - val_accuracy: 0.5874\n",
      "Epoch 10/30\n",
      "188/188 [==============================] - 7s 38ms/step - loss: 1.1364 - accuracy: 0.5891 - val_loss: 1.1183 - val_accuracy: 0.5928\n",
      "Epoch 11/30\n",
      "188/188 [==============================] - 6s 33ms/step - loss: 1.1216 - accuracy: 0.6014 - val_loss: 1.1172 - val_accuracy: 0.5995\n",
      "Epoch 12/30\n",
      "188/188 [==============================] - 6s 32ms/step - loss: 1.0784 - accuracy: 0.6186 - val_loss: 1.0839 - val_accuracy: 0.6168\n",
      "Epoch 13/30\n",
      "188/188 [==============================] - 6s 33ms/step - loss: 1.0379 - accuracy: 0.6343 - val_loss: 1.0817 - val_accuracy: 0.6175\n",
      "Epoch 14/30\n",
      "188/188 [==============================] - 6s 33ms/step - loss: 1.0293 - accuracy: 0.6319 - val_loss: 1.0562 - val_accuracy: 0.6228\n",
      "Epoch 15/30\n",
      "188/188 [==============================] - 6s 33ms/step - loss: 1.0018 - accuracy: 0.6450 - val_loss: 1.0152 - val_accuracy: 0.6429\n",
      "Epoch 16/30\n",
      "188/188 [==============================] - 6s 33ms/step - loss: 0.9563 - accuracy: 0.6670 - val_loss: 1.0438 - val_accuracy: 0.6295\n",
      "Epoch 17/30\n",
      "188/188 [==============================] - 7s 35ms/step - loss: 0.9487 - accuracy: 0.6677 - val_loss: 1.0066 - val_accuracy: 0.6395\n",
      "Epoch 18/30\n",
      "188/188 [==============================] - 7s 35ms/step - loss: 0.9191 - accuracy: 0.6790 - val_loss: 1.0049 - val_accuracy: 0.6362\n",
      "Epoch 19/30\n",
      "188/188 [==============================] - 7s 36ms/step - loss: 0.9047 - accuracy: 0.6834 - val_loss: 0.9918 - val_accuracy: 0.6509\n",
      "Epoch 20/30\n",
      "188/188 [==============================] - 6s 34ms/step - loss: 0.8749 - accuracy: 0.6945 - val_loss: 0.9748 - val_accuracy: 0.6589\n",
      "Epoch 21/30\n",
      "188/188 [==============================] - 6s 32ms/step - loss: 0.8569 - accuracy: 0.6964 - val_loss: 0.9321 - val_accuracy: 0.6702\n",
      "Epoch 22/30\n",
      "188/188 [==============================] - 6s 33ms/step - loss: 0.8433 - accuracy: 0.6992 - val_loss: 0.9444 - val_accuracy: 0.6696\n",
      "Epoch 23/30\n",
      "188/188 [==============================] - 6s 33ms/step - loss: 0.8357 - accuracy: 0.7057 - val_loss: 0.9571 - val_accuracy: 0.6602\n",
      "Epoch 24/30\n",
      "188/188 [==============================] - 6s 34ms/step - loss: 0.8147 - accuracy: 0.7097 - val_loss: 0.9239 - val_accuracy: 0.6756\n",
      "Epoch 25/30\n",
      "188/188 [==============================] - 6s 33ms/step - loss: 0.7912 - accuracy: 0.7212 - val_loss: 0.9041 - val_accuracy: 0.6869\n",
      "Epoch 26/30\n",
      "188/188 [==============================] - 6s 33ms/step - loss: 0.7733 - accuracy: 0.7311 - val_loss: 0.9419 - val_accuracy: 0.6682\n",
      "Epoch 27/30\n",
      "188/188 [==============================] - 6s 33ms/step - loss: 0.7501 - accuracy: 0.7359 - val_loss: 0.9207 - val_accuracy: 0.6816\n",
      "Epoch 28/30\n",
      "188/188 [==============================] - 6s 34ms/step - loss: 0.7347 - accuracy: 0.7396 - val_loss: 0.8843 - val_accuracy: 0.6929\n",
      "Epoch 29/30\n",
      "188/188 [==============================] - 7s 36ms/step - loss: 0.7118 - accuracy: 0.7473 - val_loss: 0.8923 - val_accuracy: 0.6876\n",
      "Epoch 30/30\n",
      "188/188 [==============================] - 7s 35ms/step - loss: 0.7079 - accuracy: 0.7541 - val_loss: 0.9130 - val_accuracy: 0.6802\n",
      "79/79 [==============================] - 1s 9ms/step - loss: 0.8655 - accuracy: 0.7012\n",
      "Accuracy on test set is {} 0.7012414932250977\n"
     ]
    }
   ],
   "source": [
    "# create train, validation, and test sets\n",
    "X_train, X_validation, X_test, y_train, y_validation, y_test = prepare_datasets(0.25, 0.2)\n",
    "# build the CNN\n",
    "input_shape = (X_train.shape[1], X_train.shape[2], X_train.shape[3])\n",
    "model = build_model(input_shape)\n",
    "\n",
    "# compile the network\n",
    "optimizer = keras.optimizers.Adam(learning_rate=0.0001)\n",
    "model.compile(optimizer=optimizer, loss=\"sparse_categorical_crossentropy\", metrics=['accuracy'])\n",
    "\n",
    "# train\n",
    "model.fit(X_train, y_train, validation_data=(X_validation, y_validation), batch_size=32, epochs=30)\n",
    "\n",
    "# evaluation\n",
    "test_error, test_accuracy = model.evaluate(X_test, y_test, verbose=1)\n",
    "print(\"Accuracy on test set is {}\",format(test_accuracy)\n",
    "      )"
   ]
  },
  {
   "cell_type": "code",
   "execution_count": null,
   "metadata": {},
   "outputs": [
    {
     "name": "stdout",
     "output_type": "stream",
     "text": [
      "1/1 [==============================] - 0s 98ms/step\n",
      "Expected index: 9, Predicted index: [7]\n"
     ]
    }
   ],
   "source": [
    "# prediction\n",
    "X = X_test[20]\n",
    "y = y_test[20]\n",
    "predict(model, X, y)"
   ]
  }
 ],
 "metadata": {
  "kernelspec": {
   "display_name": "Python 3",
   "language": "python",
   "name": "python3"
  },
  "language_info": {
   "codemirror_mode": {
    "name": "ipython",
    "version": 3
   },
   "file_extension": ".py",
   "mimetype": "text/x-python",
   "name": "python",
   "nbconvert_exporter": "python",
   "pygments_lexer": "ipython3",
   "version": "3.9.4"
  },
  "orig_nbformat": 4,
  "vscode": {
   "interpreter": {
    "hash": "2cc0532ee83a55a8ed35b4eb27a95123a5d2cb5ad676f9b89aaf8c32d4359005"
   }
  }
 },
 "nbformat": 4,
 "nbformat_minor": 2
}
