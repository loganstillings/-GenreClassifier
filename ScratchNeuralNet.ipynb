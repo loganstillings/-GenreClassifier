{
 "cells": [
  {
   "cell_type": "code",
   "execution_count": 1,
   "metadata": {},
   "outputs": [],
   "source": [
    "import numpy as np\n",
    "import math\n",
    "\n",
    "class MLP:\n",
    "    def __init__(self, num_inputs=3, num_hidden=[3,5], num_outputs=2):\n",
    "        self.num_inputs = num_inputs\n",
    "        self.num_hidden = num_hidden\n",
    "        self.num_outputs = num_outputs\n",
    "\n",
    "        layers = [self.num_inputs] + self.num_hidden + [self.num_outputs]\n",
    "        print(layers)\n",
    "        \n",
    "        #initiate random weights\n",
    "        self.weights = []\n",
    "        for i in range(len(layers)-1):\n",
    "            w = np.random.rand(layers[i], layers[i+1])\n",
    "            self.weights.append(w)\n",
    "        print(self.weights)\n",
    "\n",
    "    def sigmoid(self, x):\n",
    "        return 1 / (1 + np.exp(-x))\n",
    "\n",
    "    def forward_propogate(self, inputs):\n",
    "        activations = inputs\n",
    "\n",
    "        for w in self.weights:\n",
    "            # calcuate net inputs\n",
    "            net_inputs = np.dot(activations, w)\n",
    "\n",
    "            #calculate activations\n",
    "            activations = self.sigmoid(net_inputs)\n",
    "        \n",
    "        return activations"
   ]
  },
  {
   "cell_type": "code",
   "execution_count": 2,
   "metadata": {},
   "outputs": [
    {
     "name": "stdout",
     "output_type": "stream",
     "text": [
      "[3, 3, 5, 2]\n",
      "[array([[0.10268147, 0.45082927, 0.1308004 ],\n",
      "       [0.253451  , 0.3708337 , 0.79469632],\n",
      "       [0.70331417, 0.49456644, 0.61226319]]), array([[0.8851193 , 0.82559733, 0.18702365, 0.81822143, 0.82677182],\n",
      "       [0.47938185, 0.32372359, 0.26884023, 0.56800218, 0.3797365 ],\n",
      "       [0.7736849 , 0.86137228, 0.67306907, 0.67590422, 0.22401069]]), array([[0.10832592, 0.01296695],\n",
      "       [0.04683228, 0.0812306 ],\n",
      "       [0.12236089, 0.33931535],\n",
      "       [0.9501164 , 0.23257494],\n",
      "       [0.82107227, 0.45811898]])]\n",
      "The network input is: [0.83673465 0.18669966 0.97124042]\n",
      "The network output is: [0.8292662  0.69699251]\n"
     ]
    }
   ],
   "source": [
    "# create an MLP\n",
    "mlp = MLP()\n",
    "\n",
    "#create inputs\n",
    "inputs = np.random.rand(mlp.num_inputs)\n",
    "\n",
    "# perform forward prop\n",
    "outputs = mlp.forward_propogate(inputs)\n",
    "\n",
    "#print results\n",
    "print(\"The network input is: {}\".format(inputs))\n",
    "print(\"The network output is: {}\".format(outputs))"
   ]
  }
 ],
 "metadata": {
  "kernelspec": {
   "display_name": "Python 3",
   "language": "python",
   "name": "python3"
  },
  "language_info": {
   "codemirror_mode": {
    "name": "ipython",
    "version": 3
   },
   "file_extension": ".py",
   "mimetype": "text/x-python",
   "name": "python",
   "nbconvert_exporter": "python",
   "pygments_lexer": "ipython3",
   "version": "3.9.4"
  },
  "orig_nbformat": 4,
  "vscode": {
   "interpreter": {
    "hash": "2cc0532ee83a55a8ed35b4eb27a95123a5d2cb5ad676f9b89aaf8c32d4359005"
   }
  }
 },
 "nbformat": 4,
 "nbformat_minor": 2
}
